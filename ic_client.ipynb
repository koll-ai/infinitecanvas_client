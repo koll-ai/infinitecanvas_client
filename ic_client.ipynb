{
  "cells": [
    {
      "cell_type": "markdown",
      "metadata": {
        "id": "view-in-github",
        "colab_type": "text"
      },
      "source": [
        "<a href=\"https://colab.research.google.com/github/koll-ai/infinitecanvas_client/blob/main/kollAI_local.ipynb\" target=\"_parent\"><img src=\"https://colab.research.google.com/assets/colab-badge.svg\" alt=\"Open In Colab\"/></a>"
      ]
    },
    {
      "cell_type": "markdown",
      "source": [
        "# **Notebook from https://github.com/koll-ai/infinitecanvas_client**\n",
        "\n",
        "[Discord](https://discord.gg/yvZKgSUzaW)"
      ],
      "metadata": {
        "id": "SS7_TJMj04Ve"
      }
    },
    {
      "cell_type": "code",
      "execution_count": null,
      "metadata": {
        "id": "fht4VHVFXs_g"
      },
      "outputs": [],
      "source": [
        "#@title # Install dependencies\n",
        "\n",
        "from IPython.utils import capture\n",
        "import subprocess\n",
        "import time\n",
        "\n",
        "with capture.capture_output() as cap:\n",
        "  !npm install -g localtunnel\n",
        "  !pip install diffusers\n",
        "  !pip install transformers\n",
        "  !pip install accelerate\n",
        "  !git clone https://github.com/koll-ai/infinitecanvas_client.git\n",
        "\n",
        "from infinitecanvas_client.imagen import ImageGenerator"
      ]
    },
    {
      "cell_type": "code",
      "execution_count": null,
      "metadata": {
        "id": "u3gc9gHUhhb0",
        "cellView": "form"
      },
      "outputs": [],
      "source": [
        "#@title # Choose the model you want to use with koll.ai\n",
        "Version = \"runwayml/stable-diffusion-v1-5\" #@param [ \"runwayml/stable-diffusion-v1-5\", \"runwayml/stable-diffusion-inpainting\", \"stabilityai/stable-diffusion-2-1\", \"stabilityai/stable-diffusion-2\", \"stabilityai/stable-diffusion-2-inpainting\"]\n",
        "\n",
        "#@markdown Or\n",
        "Path = \"\" #@param {type:\"string\"}\n",
        "\n",
        "model_name = Path if Path != \"\" else Version\n",
        "\n",
        "imagen = ImageGenerator()\n",
        "with capture.capture_output() as cap:\n",
        "  imagen.load_model(model_name, 'cuda')"
      ]
    },
    {
      "cell_type": "code",
      "source": [
        "import time\n",
        "\n",
        "#@title # Setup localtunnel\n",
        "with open('output.txt', 'w') as f:\n",
        "    proc = subprocess.Popen(['lt', '--port', '5000'], stdout=f)\n",
        "\n",
        "time.sleep(3)"
      ],
      "metadata": {
        "cellView": "form",
        "id": "bAJKMGRctlox"
      },
      "execution_count": null,
      "outputs": []
    },
    {
      "cell_type": "code",
      "execution_count": null,
      "metadata": {
        "id": "xHA6C6LU-08d"
      },
      "outputs": [],
      "source": [
        "#@title # Run the service\n",
        "\n",
        "from flask import Flask\n",
        "from flask import request\n",
        "import base64\n",
        "from io import BytesIO\n",
        "\n",
        "app = Flask(__name__)\n",
        "\n",
        "@app.route('/', methods=['POST'])\n",
        "def index():\n",
        "    json = request.get_json()\n",
        "    action = json['action']\n",
        "    params = json['params']\n",
        "\n",
        "    image = None\n",
        "\n",
        "    if action == 'new_image':\n",
        "      image = imagen.new_image(**params)\n",
        "    \n",
        "    elif action == 'outpainting':\n",
        "      image = imagen.outpainting(**params)\n",
        "\n",
        "    elif action == 'img_to_img':\n",
        "      image = imagen.image_to_image(**params)\n",
        "\n",
        "    buffered = BytesIO()\n",
        "    image.save(buffered, format=\"PNG\")\n",
        "    \n",
        "    return base64.b64encode(buffered.getvalue())\n",
        "\n",
        "\n",
        "@app.route('/sleep/', methods=['GET'])\n",
        "def sleep():\n",
        "  delay = request.args.get('delay')\n",
        "  time.sleep(int(delay))\n",
        "  return \"Yeeehaaww\"\n",
        "\n",
        "\n",
        "if __name__ == '__main__':\n",
        "  with open('output.txt', 'r') as f:\n",
        "      contents = f.read()\n",
        "      API_URL = contents.split(' ')[-1]\n",
        "      protocol = API_URL.split(':')[0]\n",
        "      url = API_URL.split('/')[-1]\n",
        "\n",
        "      print('\\n'*2)\n",
        "      print(f'Everything is ready! Click on the this link to be redirected to koll.ai. Don\\'t close this tab!')\n",
        "      print(f'https://koll.ai?ltprotocol={protocol}&lturl={url}')\n",
        "\n",
        "#print(API_URL)\n",
        "\n",
        "with capture.capture_output() as cap:\n",
        "  import socket\n",
        "  app.run()"
      ]
    }
  ],
  "metadata": {
    "accelerator": "GPU",
    "colab": {
      "provenance": [],
      "include_colab_link": true
    },
    "gpuClass": "standard",
    "kernelspec": {
      "display_name": "Python 3",
      "name": "python3"
    },
    "language_info": {
      "name": "python"
    }
  },
  "nbformat": 4,
  "nbformat_minor": 0
}
